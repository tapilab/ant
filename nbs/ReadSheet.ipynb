{
 "cells": [
  {
   "cell_type": "code",
   "execution_count": 1,
   "id": "8455c129-7db1-461d-a7e5-21fddbe97a09",
   "metadata": {},
   "outputs": [
    {
     "ename": "ImproperlyConfigured",
     "evalue": "Requested setting LOGGING_CONFIG, but settings are not configured. You must either define the environment variable DJANGO_SETTINGS_MODULE or call settings.configure() before accessing settings.",
     "output_type": "error",
     "traceback": [
      "\u001b[0;31m---------------------------------------------------------------------------\u001b[0m",
      "\u001b[0;31mImproperlyConfigured\u001b[0m                      Traceback (most recent call last)",
      "Cell \u001b[0;32mIn[1], line 10\u001b[0m\n\u001b[1;32m      8\u001b[0m \u001b[38;5;28;01mfrom\u001b[39;00m \u001b[38;5;21;01mcollections\u001b[39;00m \u001b[38;5;28;01mimport\u001b[39;00m defaultdict\n\u001b[1;32m      9\u001b[0m \u001b[38;5;28;01mimport\u001b[39;00m \u001b[38;5;21;01mdjango\u001b[39;00m\n\u001b[0;32m---> 10\u001b[0m \u001b[43mdjango\u001b[49m\u001b[38;5;241;43m.\u001b[39;49m\u001b[43msetup\u001b[49m\u001b[43m(\u001b[49m\u001b[43m)\u001b[49m\n\u001b[1;32m     11\u001b[0m \u001b[38;5;28;01mfrom\u001b[39;00m \u001b[38;5;21;01mdjango\u001b[39;00m\u001b[38;5;21;01m.\u001b[39;00m\u001b[38;5;21;01mapps\u001b[39;00m \u001b[38;5;28;01mimport\u001b[39;00m apps\n\u001b[1;32m     12\u001b[0m \u001b[38;5;28;01mfrom\u001b[39;00m \u001b[38;5;21;01mcore\u001b[39;00m\u001b[38;5;21;01m.\u001b[39;00m\u001b[38;5;21;01mmodels\u001b[39;00m \u001b[38;5;28;01mimport\u001b[39;00m \u001b[38;5;241m*\u001b[39m\n",
      "File \u001b[0;32m~/Dropbox (Personal)/p/ant-project/v/lib/python3.9/site-packages/django/__init__.py:19\u001b[0m, in \u001b[0;36msetup\u001b[0;34m(set_prefix)\u001b[0m\n\u001b[1;32m     16\u001b[0m \u001b[38;5;28;01mfrom\u001b[39;00m \u001b[38;5;21;01mdjango\u001b[39;00m\u001b[38;5;21;01m.\u001b[39;00m\u001b[38;5;21;01murls\u001b[39;00m \u001b[38;5;28;01mimport\u001b[39;00m set_script_prefix\n\u001b[1;32m     17\u001b[0m \u001b[38;5;28;01mfrom\u001b[39;00m \u001b[38;5;21;01mdjango\u001b[39;00m\u001b[38;5;21;01m.\u001b[39;00m\u001b[38;5;21;01mutils\u001b[39;00m\u001b[38;5;21;01m.\u001b[39;00m\u001b[38;5;21;01mlog\u001b[39;00m \u001b[38;5;28;01mimport\u001b[39;00m configure_logging\n\u001b[0;32m---> 19\u001b[0m configure_logging(\u001b[43msettings\u001b[49m\u001b[38;5;241;43m.\u001b[39;49m\u001b[43mLOGGING_CONFIG\u001b[49m, settings\u001b[38;5;241m.\u001b[39mLOGGING)\n\u001b[1;32m     20\u001b[0m \u001b[38;5;28;01mif\u001b[39;00m set_prefix:\n\u001b[1;32m     21\u001b[0m     set_script_prefix(\n\u001b[1;32m     22\u001b[0m         \u001b[38;5;124m\"\u001b[39m\u001b[38;5;124m/\u001b[39m\u001b[38;5;124m\"\u001b[39m \u001b[38;5;28;01mif\u001b[39;00m settings\u001b[38;5;241m.\u001b[39mFORCE_SCRIPT_NAME \u001b[38;5;129;01mis\u001b[39;00m \u001b[38;5;28;01mNone\u001b[39;00m \u001b[38;5;28;01melse\u001b[39;00m settings\u001b[38;5;241m.\u001b[39mFORCE_SCRIPT_NAME\n\u001b[1;32m     23\u001b[0m     )\n",
      "File \u001b[0;32m~/Dropbox (Personal)/p/ant-project/v/lib/python3.9/site-packages/django/conf/__init__.py:102\u001b[0m, in \u001b[0;36mLazySettings.__getattr__\u001b[0;34m(self, name)\u001b[0m\n\u001b[1;32m    100\u001b[0m \u001b[38;5;250m\u001b[39m\u001b[38;5;124;03m\"\"\"Return the value of a setting and cache it in self.__dict__.\"\"\"\u001b[39;00m\n\u001b[1;32m    101\u001b[0m \u001b[38;5;28;01mif\u001b[39;00m (_wrapped \u001b[38;5;241m:=\u001b[39m \u001b[38;5;28mself\u001b[39m\u001b[38;5;241m.\u001b[39m_wrapped) \u001b[38;5;129;01mis\u001b[39;00m empty:\n\u001b[0;32m--> 102\u001b[0m     \u001b[38;5;28;43mself\u001b[39;49m\u001b[38;5;241;43m.\u001b[39;49m\u001b[43m_setup\u001b[49m\u001b[43m(\u001b[49m\u001b[43mname\u001b[49m\u001b[43m)\u001b[49m\n\u001b[1;32m    103\u001b[0m     _wrapped \u001b[38;5;241m=\u001b[39m \u001b[38;5;28mself\u001b[39m\u001b[38;5;241m.\u001b[39m_wrapped\n\u001b[1;32m    104\u001b[0m val \u001b[38;5;241m=\u001b[39m \u001b[38;5;28mgetattr\u001b[39m(_wrapped, name)\n",
      "File \u001b[0;32m~/Dropbox (Personal)/p/ant-project/v/lib/python3.9/site-packages/django/conf/__init__.py:82\u001b[0m, in \u001b[0;36mLazySettings._setup\u001b[0;34m(self, name)\u001b[0m\n\u001b[1;32m     80\u001b[0m \u001b[38;5;28;01mif\u001b[39;00m \u001b[38;5;129;01mnot\u001b[39;00m settings_module:\n\u001b[1;32m     81\u001b[0m     desc \u001b[38;5;241m=\u001b[39m (\u001b[38;5;124m\"\u001b[39m\u001b[38;5;124msetting \u001b[39m\u001b[38;5;132;01m%s\u001b[39;00m\u001b[38;5;124m\"\u001b[39m \u001b[38;5;241m%\u001b[39m name) \u001b[38;5;28;01mif\u001b[39;00m name \u001b[38;5;28;01melse\u001b[39;00m \u001b[38;5;124m\"\u001b[39m\u001b[38;5;124msettings\u001b[39m\u001b[38;5;124m\"\u001b[39m\n\u001b[0;32m---> 82\u001b[0m     \u001b[38;5;28;01mraise\u001b[39;00m ImproperlyConfigured(\n\u001b[1;32m     83\u001b[0m         \u001b[38;5;124m\"\u001b[39m\u001b[38;5;124mRequested \u001b[39m\u001b[38;5;132;01m%s\u001b[39;00m\u001b[38;5;124m, but settings are not configured. \u001b[39m\u001b[38;5;124m\"\u001b[39m\n\u001b[1;32m     84\u001b[0m         \u001b[38;5;124m\"\u001b[39m\u001b[38;5;124mYou must either define the environment variable \u001b[39m\u001b[38;5;132;01m%s\u001b[39;00m\u001b[38;5;124m \u001b[39m\u001b[38;5;124m\"\u001b[39m\n\u001b[1;32m     85\u001b[0m         \u001b[38;5;124m\"\u001b[39m\u001b[38;5;124mor call settings.configure() before accessing settings.\u001b[39m\u001b[38;5;124m\"\u001b[39m\n\u001b[1;32m     86\u001b[0m         \u001b[38;5;241m%\u001b[39m (desc, ENVIRONMENT_VARIABLE)\n\u001b[1;32m     87\u001b[0m     )\n\u001b[1;32m     89\u001b[0m \u001b[38;5;28mself\u001b[39m\u001b[38;5;241m.\u001b[39m_wrapped \u001b[38;5;241m=\u001b[39m Settings(settings_module)\n",
      "\u001b[0;31mImproperlyConfigured\u001b[0m: Requested setting LOGGING_CONFIG, but settings are not configured. You must either define the environment variable DJANGO_SETTINGS_MODULE or call settings.configure() before accessing settings."
     ]
    }
   ],
   "source": [
    "import sys\n",
    "sys.path.append('../')\n",
    "\n",
    "# was getting weird async error due to using django w/jupyter, so changed this flag...dangerous???\n",
    "import os\n",
    "os.environ[\"DJANGO_ALLOW_ASYNC_UNSAFE\"]='1'\n",
    "\n",
    "from collections import defaultdict\n",
    "import django\n",
    "django.setup()\n",
    "from django.apps import apps\n",
    "from core.models import *\n",
    "import pandas as pd\n",
    "import re\n",
    "\n",
    "def url2doc_id(u):\n",
    "    r = re.findall('\\/d\\/(.+?)\\/', u)\n",
    "    if len(r) == 0:\n",
    "        return None\n",
    "    else:\n",
    "        return r[0]\n",
    "\n",
    "def id2export_url(id_):\n",
    "    return 'https://docs.google.com/spreadsheets/d/%s/export?format=xlsx&id=%s' % (id_, id_)\n",
    "\n",
    "def get_sheet_by_name(sheets, name):\n",
    "    for sheet_name, sheet in sheets.items():\n",
    "        if sheet_name.lower() == name.lower():            \n",
    "            return sheet\n",
    "    return None\n",
    "    \n",
    "url = 'https://docs.google.com/spreadsheets/d/1sH0XnBsGZZ9PCzhYE53o4hEClziCNULakF1ZanPFOqA/edit?usp=sharing'\n",
    "sheets = pd.read_excel(id2export_url(url2doc_id(url)), sheet_name=None)"
   ]
  },
  {
   "cell_type": "code",
   "execution_count": 2,
   "id": "8110c2a7-1760-40fe-abb7-e73e35bbe346",
   "metadata": {
    "scrolled": true
   },
   "outputs": [
    {
     "name": "stdout",
     "output_type": "stream",
     "text": [
      "Added Entity Type Artist\n",
      "Added Entity Type Artwork\n",
      "Added Entity Type Patron\n",
      "Added Entity Type Location\n",
      "Added Relationship Type Artist MentoredBy\n",
      "Added Relationship Type Artwork CreatedBy\n",
      "Added Relationship Type Artwork CommissionedBy\n",
      "Added Relationship Type Artwork InfluencedBy\n",
      "Added Relationship Type Artwork LocatedIn\n",
      "Adding Fields for entity Artist\n",
      "  Field Key\n",
      "  Field Name\n",
      "  Field Born\n",
      "  Field Died\n",
      "  Field MentoredBy\n",
      "       skipping relationship MentoredBy\n",
      "Adding Fields for entity Artwork\n",
      "  Field Key\n",
      "  Field Name\n",
      "  Field Image URL\n",
      "  Field CreatedBy\n",
      "       skipping relationship CreatedBy\n",
      "  Field CreatedBy.1\n",
      "       skipping relationship CreatedBy.1\n",
      "  Field CreatedBy.2\n",
      "       skipping relationship CreatedBy.2\n",
      "  Field Start Date\n",
      "  Field End Date\n",
      "  Field Medium\n",
      "  Field InfluencedBy\n",
      "       skipping relationship InfluencedBy\n",
      "  Field InfluencedBy.1\n",
      "       skipping relationship InfluencedBy.1\n",
      "  Field InfluencedBy.2\n",
      "       skipping relationship InfluencedBy.2\n",
      "  Field CommissionedBy\n",
      "       skipping relationship CommissionedBy\n",
      "  Field LocatedIn\n",
      "       skipping relationship LocatedIn\n",
      "Adding Fields for entity Patron\n",
      "  Field Key\n",
      "  Field Name\n",
      "  Field Born\n",
      "  Field Died\n",
      "Adding Fields for entity Location\n",
      "  Field Key\n",
      "  Field Name\n",
      "  Field Lat\n",
      "  Field Lon\n",
      "adding entities Artist\n",
      "    adding entity Raphael\n",
      "adding values [<Value: Value object (1058)>, <Value: Value object (1059)>, <Value: Value object (1060)>]\n",
      "    adding entity Polidoro\n",
      "adding values [<Value: Value object (1061)>, <Value: Value object (1062)>, <Value: Value object (1063)>]\n",
      "adding entities Artwork\n",
      "    adding entity Madonna of Loreto\n",
      "adding values [<Value: Value object (1064)>, <Value: Value object (1065)>, <Value: Value object (1066)>, <Value: Value object (1067)>, <Value: Value object (1068)>]\n",
      "    adding entity Polidoro Psyche\n",
      "adding values [<Value: Value object (1069)>, <Value: Value object (1070)>, <Value: Value object (1071)>, <Value: Value object (1072)>, <Value: Value object (1073)>]\n",
      "adding entities Patron\n",
      "    adding entity Julius II\n",
      "adding values [<Value: Value object (1074)>, <Value: Value object (1075)>, <Value: Value object (1076)>]\n",
      "adding entities Location\n",
      "    adding entity Rome\n",
      "adding values [<Value: Value object (1077)>, <Value: Value object (1078)>, <Value: Value object (1079)>]\n",
      "MentoredBy MentoredBy Polidoro Artist Raphael\n",
      "CreatedBy CreatedBy Madonna of Loreto Artist Raphael\n",
      "CommissionedBy CommissionedBy Madonna of Loreto Patron Julius II\n",
      "CreatedBy CreatedBy Polidoro Psyche Artist Polidoro\n"
     ]
    }
   ],
   "source": [
    "# read all entities and add them to database.\n",
    "\n",
    "def create_entity_types(sheets):\n",
    "    entity_types_df = get_sheet_by_name(sheets, 'Entities')\n",
    "    entity_types = {}\n",
    "    for i, e in entity_types_df.iterrows():\n",
    "        name = e.Type\n",
    "        e = EntityType(name=name)\n",
    "        e.save()\n",
    "        entity_types[name] = e\n",
    "        print('Added Entity Type', name)\n",
    "    return entity_types\n",
    "    \n",
    "def create_relationship_types(sheets, db):\n",
    "    relationship_types_df = get_sheet_by_name(sheets, 'Relationships')\n",
    "    relationship_types = defaultdict(lambda: {})\n",
    "    for i, r in relationship_types_df.iterrows():\n",
    "        rt = RelationshipType(source_entity_type=db.entity_types[r['Entity 1']],\n",
    "                             target_entity_type=db.entity_types[r['Entity 2']],\n",
    "                             name=r.Name)\n",
    "        rt.save()\n",
    "        relationship_types[r['Entity 1']][r.Name] = rt\n",
    "        print('Added Relationship Type', r['Entity 1'], r.Name)\n",
    "    return relationship_types\n",
    "\n",
    "def create_fields(sheets, db):\n",
    "    # Add all Fields for each entity\n",
    "    fields = defaultdict(lambda: {})\n",
    "    for entity_type_name, entity_type in db.entity_types.items():\n",
    "        sheet = sheets[entity_type_name]\n",
    "        print('Adding Fields for entity', entity_type_name)\n",
    "        for c in sheet.columns:\n",
    "            print('  Field', c)\n",
    "            if (c in db.relationship_types[entity_type_name] or \n",
    "                re.match(r'.*\\.[0-9]+$', c)): \n",
    "                # skip relationship columns. for duplicate columns, pandas appends .1, .2 etc. \n",
    "                # We assume these are relationship columns for now.\n",
    "                print('       skipping relationship', c)\n",
    "                continue\n",
    "            field = Field(entity_type=entity_type,\n",
    "                          name=c,\n",
    "                          is_image_field=c==entity_type.image_field_name,\n",
    "                          is_title_field=c==entity_type.title_field_name)\n",
    "            field.save()        \n",
    "            fields[entity_type_name][c] = field\n",
    "    return fields\n",
    "\n",
    "def create_entities(sheets, db):\n",
    "    entities = defaultdict(lambda: {})\n",
    "    for entity_type_name in db.entity_types:\n",
    "        print('adding entities', entity_type_name)\n",
    "        sheet = sheets[entity_type_name]    \n",
    "        entity_type = db.entity_types[entity_type_name]\n",
    "        for _, row in sheet.iterrows():\n",
    "            print('    adding entity', row.Key)\n",
    "            key = None\n",
    "            values = []\n",
    "            for col, val in row.to_dict().items():\n",
    "                if (col in db.relationship_types[entity_type_name] or \n",
    "                    re.match(r'.*\\.[0-9]+$', col) or col.lower()=='name'): \n",
    "                    continue\n",
    "                v = Value(field=db.fields[entity_type_name][col], \n",
    "                          entity_type=entity_type,\n",
    "                          value=str(val))\n",
    "                v.save()\n",
    "                values.append(v)\n",
    "                if col.strip().lower() == 'key':\n",
    "                    key = str(val)\n",
    "            entity = Entity(entity_type=entity_type, key=key, name=row['Name'])\n",
    "            entity.save()\n",
    "            print('adding values', values)\n",
    "            entity.values.set(values)\n",
    "            entity.save()\n",
    "            entities[entity_type_name][key] = entity    \n",
    "    return entities\n",
    "\n",
    "def create_relationships(sheets, db):\n",
    "    relationships = defaultdict(lambda: [])\n",
    "    for entity_type_name in db.entity_types:\n",
    "        sheet = sheets[entity_type_name]    \n",
    "        for _, row in sheet.iterrows():\n",
    "            for col, val in row.to_dict().items():     \n",
    "                if pd.isnull(val): # nothing to add\n",
    "                    continue\n",
    "                # drop any added .1, .2 etc string added for duplicate rows\n",
    "                col = re.sub(r'\\.[0-9]+$', '', col)\n",
    "                if col in db.relationship_types[entity_type_name]:\n",
    "                    relationship_type = db.relationship_types[entity_type_name][col]\n",
    "                    entity1 = db.entities[entity_type_name][row.Key]\n",
    "                    entity2_type = relationship_type.target_entity_type.name\n",
    "                    print(col, relationship_type.name, entity1.key, entity2_type, val)\n",
    "                    entity2 = db.entities[entity2_type][val]\n",
    "                    r = Relationship(relationship_type=relationship_type,\n",
    "                                     source_entity=entity1,\n",
    "                                     target_entity=entity2).save()    \n",
    "                    relationships[col] = r\n",
    "    return relationships\n",
    "    \n",
    "class DB:\n",
    "    # dummy class for in-memory db\n",
    "    def __init__(self):\n",
    "        pass\n",
    "\n",
    "for model in apps.get_models():\n",
    "    model.objects.all().delete()\n",
    "db = DB()\n",
    "db.entity_types = create_entity_types(sheets)\n",
    "db.relationship_types = create_relationship_types(sheets, db)\n",
    "# db.relationship_types\n",
    "db.fields = create_fields(sheets, db)\n",
    "db.entities = create_entities(sheets, db)\n",
    "db.relationships = create_relationships(sheets, db)"
   ]
  },
  {
   "cell_type": "code",
   "execution_count": null,
   "id": "829fcdb4-fbda-4e0b-b9de-a4cb339e2431",
   "metadata": {},
   "outputs": [],
   "source": []
  },
  {
   "cell_type": "code",
   "execution_count": 15,
   "id": "84757899-b883-45a8-89a4-e9991083d73c",
   "metadata": {
    "scrolled": true
   },
   "outputs": [
    {
     "name": "stdout",
     "output_type": "stream",
     "text": [
      "Entity Types\n"
     ]
    },
    {
     "data": {
      "text/plain": [
       "['Artist', 'Artwork', 'Patron', 'Location']"
      ]
     },
     "metadata": {},
     "output_type": "display_data"
    },
    {
     "name": "stdout",
     "output_type": "stream",
     "text": [
      "\n",
      "Fields\n"
     ]
    },
    {
     "data": {
      "text/plain": [
       "[('Artist', 'Key'),\n",
       " ('Artist', 'Name'),\n",
       " ('Artist', 'Born'),\n",
       " ('Artist', 'Died'),\n",
       " ('Artwork', 'Key'),\n",
       " ('Artwork', 'Name'),\n",
       " ('Artwork', 'Image URL'),\n",
       " ('Artwork', 'Start Date'),\n",
       " ('Artwork', 'End Date'),\n",
       " ('Artwork', 'Medium'),\n",
       " ('Patron', 'Key'),\n",
       " ('Patron', 'Name'),\n",
       " ('Patron', 'Born'),\n",
       " ('Patron', 'Died'),\n",
       " ('Location', 'Key'),\n",
       " ('Location', 'Name'),\n",
       " ('Location', 'Lat'),\n",
       " ('Location', 'Lon')]"
      ]
     },
     "metadata": {},
     "output_type": "display_data"
    },
    {
     "name": "stdout",
     "output_type": "stream",
     "text": [
      "\n",
      "Relationship Types\n"
     ]
    },
    {
     "data": {
      "text/plain": [
       "['MentoredBy', 'CreatedBy', 'CommissionedBy', 'InfluencedBy', 'LocatedIn']"
      ]
     },
     "metadata": {},
     "output_type": "display_data"
    },
    {
     "name": "stdout",
     "output_type": "stream",
     "text": [
      "Entities\n"
     ]
    },
    {
     "data": {
      "text/plain": [
       "[('Artist', 'Raphael'),\n",
       " ('Artist', 'Polidoro'),\n",
       " ('Artwork', 'Madonna of Loreto'),\n",
       " ('Artwork', 'Polidoro Psyche'),\n",
       " ('Patron', 'Julius II'),\n",
       " ('Location', 'Rome')]"
      ]
     },
     "metadata": {},
     "output_type": "display_data"
    },
    {
     "name": "stdout",
     "output_type": "stream",
     "text": [
      "Values\n"
     ]
    },
    {
     "data": {
      "text/plain": [
       "[('Artist', 'Key', 'Raphael'),\n",
       " ('Artist', 'Born', '1483'),\n",
       " ('Artist', 'Died', '1520'),\n",
       " ('Artist', 'Key', 'Polidoro'),\n",
       " ('Artist', 'Born', '1499'),\n",
       " ('Artist', 'Died', '1543'),\n",
       " ('Artwork', 'Key', 'Madonna of Loreto'),\n",
       " ('Artwork',\n",
       "  'Image URL',\n",
       "  'https://upload.wikimedia.org/wikipedia/commons/thumb/3/30/Rapha%C3%ABl_-_La_Madone_de_Lorette_-_Google_Art_Project.jpg/1024px-Rapha%C3%ABl_-_La_Madone_de_Lorette_-_Google_Art_Project.jpg'),\n",
       " ('Artwork', 'Start Date', 'nan'),\n",
       " ('Artwork', 'End Date', 'nan'),\n",
       " ('Artwork', 'Medium', 'nan'),\n",
       " ('Artwork', 'Key', 'Polidoro Psyche'),\n",
       " ('Artwork',\n",
       "  'Image URL',\n",
       "  'https://upload.wikimedia.org/wikipedia/commons/thumb/1/19/Polidoro_de_Caravaggio_Psyche_and_her_sisters.jpg/1599px-Polidoro_de_Caravaggio_Psyche_and_her_sisters.jpg'),\n",
       " ('Artwork', 'Start Date', 'nan'),\n",
       " ('Artwork', 'End Date', 'nan'),\n",
       " ('Artwork', 'Medium', 'nan'),\n",
       " ('Patron', 'Key', 'Julius II'),\n",
       " ('Patron', 'Born', '1443'),\n",
       " ('Patron', 'Died', '1513'),\n",
       " ('Location', 'Key', 'Rome'),\n",
       " ('Location', 'Lat', '1212'),\n",
       " ('Location', 'Lon', '1212')]"
      ]
     },
     "metadata": {},
     "output_type": "display_data"
    },
    {
     "name": "stdout",
     "output_type": "stream",
     "text": [
      "Relationships\n"
     ]
    },
    {
     "data": {
      "text/plain": [
       "[('MentoredBy', 'Polidoro', 'Raphael'),\n",
       " ('CreatedBy', 'Madonna of Loreto', 'Raphael'),\n",
       " ('CommissionedBy', 'Madonna of Loreto', 'Julius II'),\n",
       " ('CreatedBy', 'Polidoro Psyche', 'Polidoro')]"
      ]
     },
     "metadata": {},
     "output_type": "display_data"
    }
   ],
   "source": [
    "print('Entity Types')\n",
    "display([e.name for e in EntityType.objects.all()])\n",
    "\n",
    "print('\\nFields')\n",
    "display([(f.entity_type.name, f.name) for f in Field.objects.all()])\n",
    "\n",
    "print('\\nRelationship Types')\n",
    "display([e.name for e in RelationshipType.objects.all()])\n",
    "\n",
    "print('Entities')\n",
    "display([(f.entity_type.name, f.key) for f in Entity.objects.all()])\n",
    "\n",
    "print('Values')\n",
    "display([(v.entity_type.name, v.field.name, v.value) for v in Value.objects.all()])\n",
    "\n",
    "print('Relationships')\n",
    "display([(v.relationship_type.name, v.source_entity.key, v.target_entity.key) for v in Relationship.objects.all()])\n"
   ]
  },
  {
   "cell_type": "code",
   "execution_count": 3,
   "id": "444d4fee-5d89-4b6f-ab68-c6aaabb2fd60",
   "metadata": {},
   "outputs": [],
   "source": [
    "import json\n",
    "def db2json():\n",
    "    nodes = []\n",
    "    for e in Entity.objects.all():\n",
    "        nodes.append({\n",
    "            'id': e.pk,\n",
    "            'key': e.key,\n",
    "            'name': e.name,\n",
    "            'entity_type': e.entity_type.name,\n",
    "            'image_url': e.get_value('Image URL')\n",
    "        })\n",
    "    links = []\n",
    "    for r in Relationship.objects.all():\n",
    "        links.append({\n",
    "            'source': r.source_entity.pk,\n",
    "            'target': r.target_entity.pk,\n",
    "            'relationship_type': r.relationship_type.name,\n",
    "            'value': 1\n",
    "        })\n",
    "    return json.dumps({'nodes': nodes, 'links': links}).encode('utf-8')\n",
    "    \n",
    "import gzip\n",
    "Graph(compressed_json=gzip.compress(db2json())).save()"
   ]
  },
  {
   "cell_type": "code",
   "execution_count": 9,
   "id": "9d14599e-103c-4d38-9cad-d270d99a7f0f",
   "metadata": {},
   "outputs": [
    {
     "ename": "AttributeError",
     "evalue": "'Graph' object has no attribute 'get_json'",
     "output_type": "error",
     "traceback": [
      "\u001b[0;31m---------------------------------------------------------------------------\u001b[0m",
      "\u001b[0;31mAttributeError\u001b[0m                            Traceback (most recent call last)",
      "Cell \u001b[0;32mIn[9], line 1\u001b[0m\n\u001b[0;32m----> 1\u001b[0m \u001b[43mGraph\u001b[49m\u001b[38;5;241;43m.\u001b[39;49m\u001b[43mobjects\u001b[49m\u001b[38;5;241;43m.\u001b[39;49m\u001b[43mfirst\u001b[49m\u001b[43m(\u001b[49m\u001b[43m)\u001b[49m\u001b[38;5;241;43m.\u001b[39;49m\u001b[43mget_json\u001b[49m()\n",
      "\u001b[0;31mAttributeError\u001b[0m: 'Graph' object has no attribute 'get_json'"
     ]
    }
   ],
   "source": [
    "Graph.objects.first().get_json()"
   ]
  },
  {
   "cell_type": "code",
   "execution_count": 5,
   "id": "9445af62-195b-4632-b6c8-d01e9bc6e401",
   "metadata": {},
   "outputs": [],
   "source": [
    "e = db.entities['Artwork']['Polidoro Psyche']\n",
    "e.get_value('Image URL')\n",
    "# for v in e.values.all():\n",
    "#     print(v.field.name, v.value)"
   ]
  },
  {
   "cell_type": "code",
   "execution_count": 18,
   "id": "4dcbceb8-814e-482b-b872-099edba49114",
   "metadata": {},
   "outputs": [
    {
     "name": "stdout",
     "output_type": "stream",
     "text": [
      "Help on built-in function replace:\n",
      "\n",
      "replace(old, new, count=-1, /) method of builtins.str instance\n",
      "    Return a copy with all occurrences of substring old replaced by new.\n",
      "    \n",
      "      count\n",
      "        Maximum number of occurrences to replace.\n",
      "        -1 (the default value) means replace all occurrences.\n",
      "    \n",
      "    If the optional argument count is given, only the first count occurrences are\n",
      "    replaced.\n",
      "\n"
     ]
    }
   ],
   "source": [
    "re.sub('asd'.replace)\n"
   ]
  },
  {
   "cell_type": "code",
   "execution_count": 18,
   "id": "ee3162f7-705a-4ec3-8be6-949a2132d430",
   "metadata": {},
   "outputs": [
    {
     "name": "stdout",
     "output_type": "stream",
     "text": [
      "Help on function parse in module dateutil.parser._parser:\n",
      "\n",
      "parse(timestr, parserinfo=None, **kwargs)\n",
      "    Parse a string in one of the supported formats, using the\n",
      "    ``parserinfo`` parameters.\n",
      "    \n",
      "    :param timestr:\n",
      "        A string containing a date/time stamp.\n",
      "    \n",
      "    :param parserinfo:\n",
      "        A :class:`parserinfo` object containing parameters for the parser.\n",
      "        If ``None``, the default arguments to the :class:`parserinfo`\n",
      "        constructor are used.\n",
      "    \n",
      "    The ``**kwargs`` parameter takes the following keyword arguments:\n",
      "    \n",
      "    :param default:\n",
      "        The default datetime object, if this is a datetime object and not\n",
      "        ``None``, elements specified in ``timestr`` replace elements in the\n",
      "        default object.\n",
      "    \n",
      "    :param ignoretz:\n",
      "        If set ``True``, time zones in parsed strings are ignored and a naive\n",
      "        :class:`datetime` object is returned.\n",
      "    \n",
      "    :param tzinfos:\n",
      "        Additional time zone names / aliases which may be present in the\n",
      "        string. This argument maps time zone names (and optionally offsets\n",
      "        from those time zones) to time zones. This parameter can be a\n",
      "        dictionary with timezone aliases mapping time zone names to time\n",
      "        zones or a function taking two parameters (``tzname`` and\n",
      "        ``tzoffset``) and returning a time zone.\n",
      "    \n",
      "        The timezones to which the names are mapped can be an integer\n",
      "        offset from UTC in seconds or a :class:`tzinfo` object.\n",
      "    \n",
      "        .. doctest::\n",
      "           :options: +NORMALIZE_WHITESPACE\n",
      "    \n",
      "            >>> from dateutil.parser import parse\n",
      "            >>> from dateutil.tz import gettz\n",
      "            >>> tzinfos = {\"BRST\": -7200, \"CST\": gettz(\"America/Chicago\")}\n",
      "            >>> parse(\"2012-01-19 17:21:00 BRST\", tzinfos=tzinfos)\n",
      "            datetime.datetime(2012, 1, 19, 17, 21, tzinfo=tzoffset(u'BRST', -7200))\n",
      "            >>> parse(\"2012-01-19 17:21:00 CST\", tzinfos=tzinfos)\n",
      "            datetime.datetime(2012, 1, 19, 17, 21,\n",
      "                              tzinfo=tzfile('/usr/share/zoneinfo/America/Chicago'))\n",
      "    \n",
      "        This parameter is ignored if ``ignoretz`` is set.\n",
      "    \n",
      "    :param dayfirst:\n",
      "        Whether to interpret the first value in an ambiguous 3-integer date\n",
      "        (e.g. 01/05/09) as the day (``True``) or month (``False``). If\n",
      "        ``yearfirst`` is set to ``True``, this distinguishes between YDM and\n",
      "        YMD. If set to ``None``, this value is retrieved from the current\n",
      "        :class:`parserinfo` object (which itself defaults to ``False``).\n",
      "    \n",
      "    :param yearfirst:\n",
      "        Whether to interpret the first value in an ambiguous 3-integer date\n",
      "        (e.g. 01/05/09) as the year. If ``True``, the first number is taken to\n",
      "        be the year, otherwise the last number is taken to be the year. If\n",
      "        this is set to ``None``, the value is retrieved from the current\n",
      "        :class:`parserinfo` object (which itself defaults to ``False``).\n",
      "    \n",
      "    :param fuzzy:\n",
      "        Whether to allow fuzzy parsing, allowing for string like \"Today is\n",
      "        January 1, 2047 at 8:21:00AM\".\n",
      "    \n",
      "    :param fuzzy_with_tokens:\n",
      "        If ``True``, ``fuzzy`` is automatically set to True, and the parser\n",
      "        will return a tuple where the first element is the parsed\n",
      "        :class:`datetime.datetime` datetimestamp and the second element is\n",
      "        a tuple containing the portions of the string which were ignored:\n",
      "    \n",
      "        .. doctest::\n",
      "    \n",
      "            >>> from dateutil.parser import parse\n",
      "            >>> parse(\"Today is January 1, 2047 at 8:21:00AM\", fuzzy_with_tokens=True)\n",
      "            (datetime.datetime(2047, 1, 1, 8, 21), (u'Today is ', u' ', u'at '))\n",
      "    \n",
      "    :return:\n",
      "        Returns a :class:`datetime.datetime` object or, if the\n",
      "        ``fuzzy_with_tokens`` option is ``True``, returns a tuple, the\n",
      "        first element being a :class:`datetime.datetime` object, the second\n",
      "        a tuple containing the fuzzy tokens.\n",
      "    \n",
      "    :raises ParserError:\n",
      "        Raised for invalid or unknown string formats, if the provided\n",
      "        :class:`tzinfo` is not in a valid format, or if an invalid date would\n",
      "        be created.\n",
      "    \n",
      "    :raises OverflowError:\n",
      "        Raised if the parsed date exceeds the largest valid C integer on\n",
      "        your system.\n",
      "\n"
     ]
    }
   ],
   "source": [
    "import pandas as pd\n",
    "from datetime import datetime\n",
    "from dateutil import parser\n",
    "# datetime.strptime('1496', \"%Y\")\n",
    "\n",
    "# str(parser.parse(\"1496\"))\n",
    "help(parser.parse)\n",
    "# year_str = \"1496\"\n",
    "# # Directly using Python's datetime module allows for a broader date range\n",
    "# datetime.strptime(year_str, \"%Y\")\n",
    "\n",
    "# pd.Period('1496', freq='Y').to_timestamp()\n",
    "\n",
    "# Convert to a Timestamp at the start of the period (default)\n",
    "# timestamp_start = period_obj.to_timestamp()\n",
    "\n",
    "# pd.to_datetime('1996', format='%Y')\n",
    "# df = pd.DataFrame({'year': ['1996', '1997', '1998']})\n",
    "\n",
    "# Convert the year column to datetime\n",
    "# df['date'] = pd.to_datetime(df['year'], format='%Y')\n",
    "# df"
   ]
  }
 ],
 "metadata": {
  "kernelspec": {
   "display_name": "Python 3 (ipykernel)",
   "language": "python",
   "name": "python3"
  },
  "language_info": {
   "codemirror_mode": {
    "name": "ipython",
    "version": 3
   },
   "file_extension": ".py",
   "mimetype": "text/x-python",
   "name": "python",
   "nbconvert_exporter": "python",
   "pygments_lexer": "ipython3",
   "version": "3.9.12"
  }
 },
 "nbformat": 4,
 "nbformat_minor": 5
}
