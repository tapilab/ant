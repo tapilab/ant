{
 "cells": [
  {
   "cell_type": "code",
   "execution_count": 7,
   "id": "8455c129-7db1-461d-a7e5-21fddbe97a09",
   "metadata": {},
   "outputs": [],
   "source": [
    "import sys\n",
    "sys.path.append('../')\n",
    "\n",
    "# was getting weird async error due to using django w/jupyter, so changed this flag...dangerous???\n",
    "import os\n",
    "os.environ[\"DJANGO_ALLOW_ASYNC_UNSAFE\"]='1'\n",
    "\n",
    "from collections import defaultdict\n",
    "import django\n",
    "django.setup()\n",
    "from django.apps import apps\n",
    "from core.models import *\n",
    "import pandas as pd\n",
    "import re\n",
    "\n",
    "def url2doc_id(u):\n",
    "    r = re.findall('\\/d\\/(.+?)\\/', u)\n",
    "    if len(r) == 0:\n",
    "        return None\n",
    "    else:\n",
    "        return r[0]\n",
    "\n",
    "def id2export_url(id_):\n",
    "    return 'https://docs.google.com/spreadsheets/d/%s/export?format=xlsx&id=%s' % (id_, id_)\n",
    "\n",
    "def get_sheet_by_name(sheets, name):\n",
    "    for sheet_name, sheet in sheets.items():\n",
    "        if sheet_name.lower() == name.lower():            \n",
    "            return sheet\n",
    "    return None\n",
    "    \n",
    "url = 'https://docs.google.com/spreadsheets/d/1sH0XnBsGZZ9PCzhYE53o4hEClziCNULakF1ZanPFOqA/edit?usp=sharing'\n",
    "sheets = pd.read_excel(id2export_url(url2doc_id(url)), sheet_name=None)"
   ]
  },
  {
   "cell_type": "code",
   "execution_count": 41,
   "id": "8110c2a7-1760-40fe-abb7-e73e35bbe346",
   "metadata": {
    "scrolled": true
   },
   "outputs": [
    {
     "name": "stdout",
     "output_type": "stream",
     "text": [
      "Added Entity Type Artist\n",
      "Added Entity Type Artwork\n",
      "Added Entity Type Patron\n",
      "Added Entity Type Location\n",
      "Added Relationship Type Artist MentoredBy\n",
      "Added Relationship Type Artwork CreatedBy\n",
      "Added Relationship Type Artwork CommissionedBy\n",
      "Added Relationship Type Artwork InfluencedBy\n",
      "Added Relationship Type Artwork LocatedIn\n",
      "Adding Fields for entity Artist\n",
      "  Field Key\n",
      "  Field Name\n",
      "  Field Born\n",
      "  Field Died\n",
      "  Field MentoredBy\n",
      "       skipping relationship MentoredBy\n",
      "Adding Fields for entity Artwork\n",
      "  Field Key\n",
      "  Field Name\n",
      "  Field Image URL\n",
      "  Field CreatedBy\n",
      "       skipping relationship CreatedBy\n",
      "  Field CreatedBy.1\n",
      "       skipping relationship CreatedBy.1\n",
      "  Field CreatedBy.2\n",
      "       skipping relationship CreatedBy.2\n",
      "  Field Start Date\n",
      "  Field End Date\n",
      "  Field Medium\n",
      "  Field InfluencedBy\n",
      "       skipping relationship InfluencedBy\n",
      "  Field InfluencedBy.1\n",
      "       skipping relationship InfluencedBy.1\n",
      "  Field InfluencedBy.2\n",
      "       skipping relationship InfluencedBy.2\n",
      "  Field CommissionedBy\n",
      "       skipping relationship CommissionedBy\n",
      "  Field LocatedIn\n",
      "       skipping relationship LocatedIn\n",
      "Adding Fields for entity Patron\n",
      "  Field Key\n",
      "  Field Name\n",
      "  Field Born\n",
      "  Field Died\n",
      "Adding Fields for entity Location\n",
      "  Field Key\n",
      "  Field Lat\n",
      "  Field Lon\n",
      "MentoredBy MentoredBy Polidoro Artist Raphael\n",
      "CreatedBy CreatedBy Madonna of Loreto Artist Raphael\n",
      "CommissionedBy CommissionedBy Madonna of Loreto Patron Julius II\n",
      "CreatedBy CreatedBy Polidoro Psyche Artist Polidoro\n"
     ]
    }
   ],
   "source": [
    "# read all entities and add them to database.\n",
    "\n",
    "def create_entity_types(sheets):\n",
    "    entity_types_df = get_sheet_by_name(sheets, 'Entities')\n",
    "    entity_types = {}\n",
    "    for i, e in entity_types_df.iterrows():\n",
    "        name = e.Type\n",
    "        e = EntityType(name=name)\n",
    "        e.save()\n",
    "        entity_types[name] = e\n",
    "        print('Added Entity Type', name)\n",
    "    return entity_types\n",
    "    \n",
    "def create_relationship_types(sheets, db):\n",
    "    relationship_types_df = get_sheet_by_name(sheets, 'Relationships')\n",
    "    relationship_types = defaultdict(lambda: {})\n",
    "    for i, r in relationship_types_df.iterrows():\n",
    "        rt = RelationshipType(source_entity_type=db.entity_types[r['Entity 1']],\n",
    "                             target_entity_type=db.entity_types[r['Entity 2']],\n",
    "                             label=r.Label)\n",
    "        rt.save()\n",
    "        relationship_types[r['Entity 1']][r.Label] = rt\n",
    "        print('Added Relationship Type', r['Entity 1'], r.Label)\n",
    "    return relationship_types\n",
    "\n",
    "def create_fields(sheets, db):\n",
    "    # Add all Fields for each entity\n",
    "    fields = defaultdict(lambda: {})\n",
    "    for entity_type_name, entity_type in db.entity_types.items():\n",
    "        sheet = sheets[entity_type_name]\n",
    "        print('Adding Fields for entity', entity_type_name)\n",
    "        for c in sheet.columns:\n",
    "            print('  Field', c)\n",
    "            if (c in db.relationship_types[entity_type_name] or \n",
    "                re.match(r'.*\\.[0-9]+$', c)): \n",
    "                # skip relationship columns. for duplicate columns, pandas appends .1, .2 etc. \n",
    "                # We assume these are relationship columns for now.\n",
    "                print('       skipping relationship', c)\n",
    "                continue\n",
    "            field = Field(entity_type=entity_type,\n",
    "                          field_name=c,\n",
    "                          is_image_field=c==entity_type.image_field_name,\n",
    "                          is_title_field=c==entity_type.title_field_name)\n",
    "            field.save()        \n",
    "            fields[entity_type_name][c] = field\n",
    "    return fields\n",
    "\n",
    "def create_entities(sheets, db):\n",
    "    entities = defaultdict(lambda: {})\n",
    "    for entity_type_name in db.entity_types:\n",
    "        sheet = sheets[entity_type_name]    \n",
    "        entity_type = db.entity_types[entity_type_name]\n",
    "        for _, row in sheet.iterrows():\n",
    "            key = None\n",
    "            values = []\n",
    "            for col, val in row.to_dict().items():\n",
    "                if (col in db.relationship_types[entity_type_name] or \n",
    "                    re.match(r'.*\\.[0-9]+$', col)): \n",
    "                    continue\n",
    "                v = Value(field=db.fields[entity_type_name][col], \n",
    "                          entity_type=entity_type,\n",
    "                          value=str(val))\n",
    "                v.save()\n",
    "                if col.strip().lower() == 'key':\n",
    "                    key = str(val)\n",
    "            entity = Entity(entity_type=entity_type, key=key)\n",
    "            entity.save()\n",
    "            entity.values.set(values)\n",
    "            entity.save()\n",
    "            entities[entity_type_name][key] = entity    \n",
    "    return entities\n",
    "\n",
    "def create_relationships(sheets, db):\n",
    "    relationships = defaultdict(lambda: [])\n",
    "    for entity_type_name in db.entity_types:\n",
    "        sheet = sheets[entity_type_name]    \n",
    "        for _, row in sheet.iterrows():\n",
    "            for col, val in row.to_dict().items():     \n",
    "                if pd.isnull(val): # nothing to add\n",
    "                    continue\n",
    "                # drop any added .1, .2 etc string added for duplicate rows\n",
    "                col = re.sub(r'\\.[0-9]+$', '', col)\n",
    "                if col in db.relationship_types[entity_type_name]:\n",
    "                    relationship_type = db.relationship_types[entity_type_name][col]\n",
    "                    entity1 = db.entities[entity_type_name][row.Key]\n",
    "                    entity2_type = relationship_type.target_entity_type.name\n",
    "                    print(col, relationship_type.label, entity1.key, entity2_type, val)\n",
    "                    entity2 = db.entities[entity2_type][val]\n",
    "                    r = Relationship(relationship_type=relationship_type,\n",
    "                                     source_entity=entity1,\n",
    "                                     target_entity=entity2).save()    \n",
    "                    relationships[col] = r\n",
    "    return relationships\n",
    "    \n",
    "class DB:\n",
    "    # dummy class for in-memory db\n",
    "    def __init__(self):\n",
    "        pass\n",
    "\n",
    "for model in apps.get_models():\n",
    "    model.objects.all().delete()\n",
    "db = DB()\n",
    "db.entity_types = create_entity_types(sheets)\n",
    "db.relationship_types = create_relationship_types(sheets, db)\n",
    "# db.relationship_types\n",
    "db.fields = create_fields(sheets, db)\n",
    "db.entities = create_entities(sheets, db)\n",
    "db.relationships = create_relationships(sheets, db)"
   ]
  },
  {
   "cell_type": "code",
   "execution_count": null,
   "id": "829fcdb4-fbda-4e0b-b9de-a4cb339e2431",
   "metadata": {},
   "outputs": [],
   "source": []
  },
  {
   "cell_type": "code",
   "execution_count": 42,
   "id": "84757899-b883-45a8-89a4-e9991083d73c",
   "metadata": {
    "scrolled": true
   },
   "outputs": [
    {
     "name": "stdout",
     "output_type": "stream",
     "text": [
      "Entity Types\n"
     ]
    },
    {
     "data": {
      "text/plain": [
       "['Artist', 'Artwork', 'Patron', 'Location']"
      ]
     },
     "metadata": {},
     "output_type": "display_data"
    },
    {
     "name": "stdout",
     "output_type": "stream",
     "text": [
      "\n",
      "Fields\n"
     ]
    },
    {
     "data": {
      "text/plain": [
       "[('Artist', 'Key'),\n",
       " ('Artist', 'Name'),\n",
       " ('Artist', 'Born'),\n",
       " ('Artist', 'Died'),\n",
       " ('Artwork', 'Key'),\n",
       " ('Artwork', 'Name'),\n",
       " ('Artwork', 'Image URL'),\n",
       " ('Artwork', 'Start Date'),\n",
       " ('Artwork', 'End Date'),\n",
       " ('Artwork', 'Medium'),\n",
       " ('Patron', 'Key'),\n",
       " ('Patron', 'Name'),\n",
       " ('Patron', 'Born'),\n",
       " ('Patron', 'Died'),\n",
       " ('Location', 'Key'),\n",
       " ('Location', 'Lat'),\n",
       " ('Location', 'Lon')]"
      ]
     },
     "metadata": {},
     "output_type": "display_data"
    },
    {
     "name": "stdout",
     "output_type": "stream",
     "text": [
      "\n",
      "Relationship Types\n"
     ]
    },
    {
     "data": {
      "text/plain": [
       "['MentoredBy', 'CreatedBy', 'CommissionedBy', 'InfluencedBy', 'LocatedIn']"
      ]
     },
     "metadata": {},
     "output_type": "display_data"
    },
    {
     "name": "stdout",
     "output_type": "stream",
     "text": [
      "Entities\n"
     ]
    },
    {
     "data": {
      "text/plain": [
       "[('Artist', 'Raphael'),\n",
       " ('Artist', 'Polidoro'),\n",
       " ('Artwork', 'Madonna of Loreto'),\n",
       " ('Artwork', 'Polidoro Psyche'),\n",
       " ('Patron', 'Julius II'),\n",
       " ('Location', 'Rome')]"
      ]
     },
     "metadata": {},
     "output_type": "display_data"
    },
    {
     "name": "stdout",
     "output_type": "stream",
     "text": [
      "Values\n"
     ]
    },
    {
     "data": {
      "text/plain": [
       "[('Artist', 'Key', 'Raphael'),\n",
       " ('Artist', 'Name', 'Raphael'),\n",
       " ('Artist', 'Born', '1483'),\n",
       " ('Artist', 'Died', '1520'),\n",
       " ('Artist', 'Key', 'Polidoro'),\n",
       " ('Artist', 'Name', 'Polidoro da Caravaggio'),\n",
       " ('Artist', 'Born', '1499'),\n",
       " ('Artist', 'Died', '1543'),\n",
       " ('Artwork', 'Key', 'Madonna of Loreto'),\n",
       " ('Artwork',\n",
       "  'Name',\n",
       "  'Madonna Holding a Veil, with the Child Waking; Behind Her Saint Joseph (Madonna del Velo)'),\n",
       " ('Artwork',\n",
       "  'Image URL',\n",
       "  'https://upload.wikimedia.org/wikipedia/commons/thumb/3/30/Rapha%C3%ABl_-_La_Madone_de_Lorette_-_Google_Art_Project.jpg/1024px-Rapha%C3%ABl_-_La_Madone_de_Lorette_-_Google_Art_Project.jpg'),\n",
       " ('Artwork', 'Start Date', 'nan'),\n",
       " ('Artwork', 'End Date', 'nan'),\n",
       " ('Artwork', 'Medium', 'nan'),\n",
       " ('Artwork', 'Key', 'Polidoro Psyche'),\n",
       " ('Artwork', 'Name', 'Psyche and Her Sisters'),\n",
       " ('Artwork',\n",
       "  'Image URL',\n",
       "  'https://upload.wikimedia.org/wikipedia/commons/thumb/1/19/Polidoro_de_Caravaggio_Psyche_and_her_sisters.jpg/1599px-Polidoro_de_Caravaggio_Psyche_and_her_sisters.jpg'),\n",
       " ('Artwork', 'Start Date', 'nan'),\n",
       " ('Artwork', 'End Date', 'nan'),\n",
       " ('Artwork', 'Medium', 'nan'),\n",
       " ('Patron', 'Key', 'Julius II'),\n",
       " ('Patron', 'Name', 'Giuliano della Rovere'),\n",
       " ('Patron', 'Born', '1443'),\n",
       " ('Patron', 'Died', '1513'),\n",
       " ('Location', 'Key', 'Rome'),\n",
       " ('Location', 'Lat', '1212'),\n",
       " ('Location', 'Lon', '1212')]"
      ]
     },
     "metadata": {},
     "output_type": "display_data"
    },
    {
     "name": "stdout",
     "output_type": "stream",
     "text": [
      "Relationships\n"
     ]
    },
    {
     "data": {
      "text/plain": [
       "[('MentoredBy', 'Polidoro', 'Raphael'),\n",
       " ('CreatedBy', 'Madonna of Loreto', 'Raphael'),\n",
       " ('CommissionedBy', 'Madonna of Loreto', 'Julius II'),\n",
       " ('CreatedBy', 'Polidoro Psyche', 'Polidoro')]"
      ]
     },
     "metadata": {},
     "output_type": "display_data"
    }
   ],
   "source": [
    "print('Entity Types')\n",
    "display([e.name for e in EntityType.objects.all()])\n",
    "\n",
    "print('\\nFields')\n",
    "display([(f.entity_type.name, f.field_name) for f in Field.objects.all()])\n",
    "\n",
    "print('\\nRelationship Types')\n",
    "display([e.label for e in RelationshipType.objects.all()])\n",
    "\n",
    "print('Entities')\n",
    "display([(f.entity_type.name, f.key) for f in Entity.objects.all()])\n",
    "\n",
    "print('Values')\n",
    "display([(v.entity_type.name, v.field.field_name, v.value) for v in Value.objects.all()])\n",
    "\n",
    "print('Relationships')\n",
    "display([(v.relationship_type.label, v.source_entity.key, v.target_entity.key) for v in Relationship.objects.all()])\n"
   ]
  },
  {
   "cell_type": "code",
   "execution_count": 22,
   "id": "9445af62-195b-4632-b6c8-d01e9bc6e401",
   "metadata": {},
   "outputs": [
    {
     "data": {
      "text/plain": [
       "'asdfasdf.1'"
      ]
     },
     "execution_count": 22,
     "metadata": {},
     "output_type": "execute_result"
    }
   ],
   "source": [
    "re.sub(r'\\.[0-9]+$', '', 'asdfasdf.1.2')"
   ]
  },
  {
   "cell_type": "code",
   "execution_count": 18,
   "id": "4dcbceb8-814e-482b-b872-099edba49114",
   "metadata": {},
   "outputs": [
    {
     "name": "stdout",
     "output_type": "stream",
     "text": [
      "Help on built-in function replace:\n",
      "\n",
      "replace(old, new, count=-1, /) method of builtins.str instance\n",
      "    Return a copy with all occurrences of substring old replaced by new.\n",
      "    \n",
      "      count\n",
      "        Maximum number of occurrences to replace.\n",
      "        -1 (the default value) means replace all occurrences.\n",
      "    \n",
      "    If the optional argument count is given, only the first count occurrences are\n",
      "    replaced.\n",
      "\n"
     ]
    }
   ],
   "source": [
    "re.sub('asd'.replace)\n"
   ]
  }
 ],
 "metadata": {
  "kernelspec": {
   "display_name": "Python 3 (ipykernel)",
   "language": "python",
   "name": "python3"
  },
  "language_info": {
   "codemirror_mode": {
    "name": "ipython",
    "version": 3
   },
   "file_extension": ".py",
   "mimetype": "text/x-python",
   "name": "python",
   "nbconvert_exporter": "python",
   "pygments_lexer": "ipython3",
   "version": "3.9.12"
  }
 },
 "nbformat": 4,
 "nbformat_minor": 5
}
