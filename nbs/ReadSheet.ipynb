{
 "cells": [
  {
   "cell_type": "code",
   "execution_count": 1,
   "id": "8455c129-7db1-461d-a7e5-21fddbe97a09",
   "metadata": {},
   "outputs": [
    {
     "name": "stderr",
     "output_type": "stream",
     "text": [
      "/var/folders/zd/7chgfkr973b4wjh0pjrgmfs40000gn/T/ipykernel_39824/2167890486.py:13: DeprecationWarning: \n",
      "Pyarrow will become a required dependency of pandas in the next major release of pandas (pandas 3.0),\n",
      "(to allow more performant data types, such as the Arrow string type, and better interoperability with other libraries)\n",
      "but was not found to be installed on your system.\n",
      "If this would cause problems for you,\n",
      "please provide us feedback at https://github.com/pandas-dev/pandas/issues/54466\n",
      "        \n",
      "  import pandas as pd\n"
     ]
    }
   ],
   "source": [
    "import sys\n",
    "sys.path.append('../')\n",
    "\n",
    "# was getting weird async error due to using django w/jupyter, so changed this flag...dangerous???\n",
    "import os\n",
    "os.environ[\"DJANGO_ALLOW_ASYNC_UNSAFE\"]='1'\n",
    "\n",
    "from collections import defaultdict\n",
    "import django\n",
    "django.setup()\n",
    "from django.apps import apps\n",
    "from core.models import *\n",
    "import pandas as pd\n",
    "import re\n",
    "\n",
    "def url2doc_id(u):\n",
    "    r = re.findall('\\/d\\/(.+?)\\/', u)\n",
    "    if len(r) == 0:\n",
    "        return None\n",
    "    else:\n",
    "        return r[0]\n",
    "\n",
    "def id2export_url(id_):\n",
    "    return 'https://docs.google.com/spreadsheets/d/%s/export?format=xlsx&id=%s' % (id_, id_)\n",
    "\n",
    "def get_sheet_by_name(sheets, name):\n",
    "    for sheet_name, sheet in sheets.items():\n",
    "        if sheet_name.lower() == name.lower():            \n",
    "            return sheet\n",
    "    return None\n",
    "    \n",
    "url = 'https://docs.google.com/spreadsheets/d/1sH0XnBsGZZ9PCzhYE53o4hEClziCNULakF1ZanPFOqA/edit?usp=sharing'\n",
    "sheets = pd.read_excel(id2export_url(url2doc_id(url)), sheet_name=None)"
   ]
  },
  {
   "cell_type": "code",
   "execution_count": 2,
   "id": "8110c2a7-1760-40fe-abb7-e73e35bbe346",
   "metadata": {
    "scrolled": true
   },
   "outputs": [
    {
     "name": "stdout",
     "output_type": "stream",
     "text": [
      "Added Entity Type Artist\n",
      "Added Entity Type Artwork\n",
      "Added Entity Type Patron\n",
      "Added Entity Type Location\n",
      "Added Relationship Type Artist MentoredBy\n",
      "Added Relationship Type Artwork CreatedBy\n",
      "Added Relationship Type Artwork CommissionedBy\n",
      "Added Relationship Type Artwork InfluencedBy\n",
      "Added Relationship Type Artwork LocatedIn\n",
      "Adding Fields for entity Artist\n",
      "  Field Key\n",
      "  Field Name\n",
      "  Field Born\n",
      "  Field Died\n",
      "  Field MentoredBy\n",
      "       skipping relationship MentoredBy\n",
      "Adding Fields for entity Artwork\n",
      "  Field Key\n",
      "  Field Name\n",
      "  Field Image URL\n",
      "  Field CreatedBy\n",
      "       skipping relationship CreatedBy\n",
      "  Field CreatedBy.1\n",
      "       skipping relationship CreatedBy.1\n",
      "  Field CreatedBy.2\n",
      "       skipping relationship CreatedBy.2\n",
      "  Field Start Date\n",
      "  Field End Date\n",
      "  Field Medium\n",
      "  Field InfluencedBy\n",
      "       skipping relationship InfluencedBy\n",
      "  Field InfluencedBy.1\n",
      "       skipping relationship InfluencedBy.1\n",
      "  Field InfluencedBy.2\n",
      "       skipping relationship InfluencedBy.2\n",
      "  Field CommissionedBy\n",
      "       skipping relationship CommissionedBy\n",
      "  Field LocatedIn\n",
      "       skipping relationship LocatedIn\n",
      "Adding Fields for entity Patron\n",
      "  Field Key\n",
      "  Field Name\n",
      "  Field Born\n",
      "  Field Died\n",
      "Adding Fields for entity Location\n",
      "  Field Key\n",
      "  Field Name\n",
      "  Field Lat\n",
      "  Field Lon\n",
      "adding entities Artist\n",
      "    adding entity Raphael\n",
      "adding values [<Value: Value object (1058)>, <Value: Value object (1059)>, <Value: Value object (1060)>]\n",
      "    adding entity Polidoro\n",
      "adding values [<Value: Value object (1061)>, <Value: Value object (1062)>, <Value: Value object (1063)>]\n",
      "adding entities Artwork\n",
      "    adding entity Madonna of Loreto\n",
      "adding values [<Value: Value object (1064)>, <Value: Value object (1065)>, <Value: Value object (1066)>, <Value: Value object (1067)>, <Value: Value object (1068)>]\n",
      "    adding entity Polidoro Psyche\n",
      "adding values [<Value: Value object (1069)>, <Value: Value object (1070)>, <Value: Value object (1071)>, <Value: Value object (1072)>, <Value: Value object (1073)>]\n",
      "adding entities Patron\n",
      "    adding entity Julius II\n",
      "adding values [<Value: Value object (1074)>, <Value: Value object (1075)>, <Value: Value object (1076)>]\n",
      "adding entities Location\n",
      "    adding entity Rome\n",
      "adding values [<Value: Value object (1077)>, <Value: Value object (1078)>, <Value: Value object (1079)>]\n",
      "MentoredBy MentoredBy Polidoro Artist Raphael\n",
      "CreatedBy CreatedBy Madonna of Loreto Artist Raphael\n",
      "CommissionedBy CommissionedBy Madonna of Loreto Patron Julius II\n",
      "CreatedBy CreatedBy Polidoro Psyche Artist Polidoro\n"
     ]
    }
   ],
   "source": [
    "# read all entities and add them to database.\n",
    "\n",
    "def create_entity_types(sheets):\n",
    "    entity_types_df = get_sheet_by_name(sheets, 'Entities')\n",
    "    entity_types = {}\n",
    "    for i, e in entity_types_df.iterrows():\n",
    "        name = e.Type\n",
    "        e = EntityType(name=name)\n",
    "        e.save()\n",
    "        entity_types[name] = e\n",
    "        print('Added Entity Type', name)\n",
    "    return entity_types\n",
    "    \n",
    "def create_relationship_types(sheets, db):\n",
    "    relationship_types_df = get_sheet_by_name(sheets, 'Relationships')\n",
    "    relationship_types = defaultdict(lambda: {})\n",
    "    for i, r in relationship_types_df.iterrows():\n",
    "        rt = RelationshipType(source_entity_type=db.entity_types[r['Entity 1']],\n",
    "                             target_entity_type=db.entity_types[r['Entity 2']],\n",
    "                             name=r.Name)\n",
    "        rt.save()\n",
    "        relationship_types[r['Entity 1']][r.Name] = rt\n",
    "        print('Added Relationship Type', r['Entity 1'], r.Name)\n",
    "    return relationship_types\n",
    "\n",
    "def create_fields(sheets, db):\n",
    "    # Add all Fields for each entity\n",
    "    fields = defaultdict(lambda: {})\n",
    "    for entity_type_name, entity_type in db.entity_types.items():\n",
    "        sheet = sheets[entity_type_name]\n",
    "        print('Adding Fields for entity', entity_type_name)\n",
    "        for c in sheet.columns:\n",
    "            print('  Field', c)\n",
    "            if (c in db.relationship_types[entity_type_name] or \n",
    "                re.match(r'.*\\.[0-9]+$', c)): \n",
    "                # skip relationship columns. for duplicate columns, pandas appends .1, .2 etc. \n",
    "                # We assume these are relationship columns for now.\n",
    "                print('       skipping relationship', c)\n",
    "                continue\n",
    "            field = Field(entity_type=entity_type,\n",
    "                          name=c,\n",
    "                          is_image_field=c==entity_type.image_field_name,\n",
    "                          is_title_field=c==entity_type.title_field_name)\n",
    "            field.save()        \n",
    "            fields[entity_type_name][c] = field\n",
    "    return fields\n",
    "\n",
    "def create_entities(sheets, db):\n",
    "    entities = defaultdict(lambda: {})\n",
    "    for entity_type_name in db.entity_types:\n",
    "        print('adding entities', entity_type_name)\n",
    "        sheet = sheets[entity_type_name]    \n",
    "        entity_type = db.entity_types[entity_type_name]\n",
    "        for _, row in sheet.iterrows():\n",
    "            print('    adding entity', row.Key)\n",
    "            key = None\n",
    "            values = []\n",
    "            for col, val in row.to_dict().items():\n",
    "                if (col in db.relationship_types[entity_type_name] or \n",
    "                    re.match(r'.*\\.[0-9]+$', col) or col.lower()=='name'): \n",
    "                    continue\n",
    "                v = Value(field=db.fields[entity_type_name][col], \n",
    "                          entity_type=entity_type,\n",
    "                          value=str(val))\n",
    "                v.save()\n",
    "                values.append(v)\n",
    "                if col.strip().lower() == 'key':\n",
    "                    key = str(val)\n",
    "            entity = Entity(entity_type=entity_type, key=key, name=row['Name'])\n",
    "            entity.save()\n",
    "            print('adding values', values)\n",
    "            entity.values.set(values)\n",
    "            entity.save()\n",
    "            entities[entity_type_name][key] = entity    \n",
    "    return entities\n",
    "\n",
    "def create_relationships(sheets, db):\n",
    "    relationships = defaultdict(lambda: [])\n",
    "    for entity_type_name in db.entity_types:\n",
    "        sheet = sheets[entity_type_name]    \n",
    "        for _, row in sheet.iterrows():\n",
    "            for col, val in row.to_dict().items():     \n",
    "                if pd.isnull(val): # nothing to add\n",
    "                    continue\n",
    "                # drop any added .1, .2 etc string added for duplicate rows\n",
    "                col = re.sub(r'\\.[0-9]+$', '', col)\n",
    "                if col in db.relationship_types[entity_type_name]:\n",
    "                    relationship_type = db.relationship_types[entity_type_name][col]\n",
    "                    entity1 = db.entities[entity_type_name][row.Key]\n",
    "                    entity2_type = relationship_type.target_entity_type.name\n",
    "                    print(col, relationship_type.name, entity1.key, entity2_type, val)\n",
    "                    entity2 = db.entities[entity2_type][val]\n",
    "                    r = Relationship(relationship_type=relationship_type,\n",
    "                                     source_entity=entity1,\n",
    "                                     target_entity=entity2).save()    \n",
    "                    relationships[col] = r\n",
    "    return relationships\n",
    "    \n",
    "class DB:\n",
    "    # dummy class for in-memory db\n",
    "    def __init__(self):\n",
    "        pass\n",
    "\n",
    "for model in apps.get_models():\n",
    "    model.objects.all().delete()\n",
    "db = DB()\n",
    "db.entity_types = create_entity_types(sheets)\n",
    "db.relationship_types = create_relationship_types(sheets, db)\n",
    "# db.relationship_types\n",
    "db.fields = create_fields(sheets, db)\n",
    "db.entities = create_entities(sheets, db)\n",
    "db.relationships = create_relationships(sheets, db)"
   ]
  },
  {
   "cell_type": "code",
   "execution_count": null,
   "id": "829fcdb4-fbda-4e0b-b9de-a4cb339e2431",
   "metadata": {},
   "outputs": [],
   "source": []
  },
  {
   "cell_type": "code",
   "execution_count": 15,
   "id": "84757899-b883-45a8-89a4-e9991083d73c",
   "metadata": {
    "scrolled": true
   },
   "outputs": [
    {
     "name": "stdout",
     "output_type": "stream",
     "text": [
      "Entity Types\n"
     ]
    },
    {
     "data": {
      "text/plain": [
       "['Artist', 'Artwork', 'Patron', 'Location']"
      ]
     },
     "metadata": {},
     "output_type": "display_data"
    },
    {
     "name": "stdout",
     "output_type": "stream",
     "text": [
      "\n",
      "Fields\n"
     ]
    },
    {
     "data": {
      "text/plain": [
       "[('Artist', 'Key'),\n",
       " ('Artist', 'Name'),\n",
       " ('Artist', 'Born'),\n",
       " ('Artist', 'Died'),\n",
       " ('Artwork', 'Key'),\n",
       " ('Artwork', 'Name'),\n",
       " ('Artwork', 'Image URL'),\n",
       " ('Artwork', 'Start Date'),\n",
       " ('Artwork', 'End Date'),\n",
       " ('Artwork', 'Medium'),\n",
       " ('Patron', 'Key'),\n",
       " ('Patron', 'Name'),\n",
       " ('Patron', 'Born'),\n",
       " ('Patron', 'Died'),\n",
       " ('Location', 'Key'),\n",
       " ('Location', 'Name'),\n",
       " ('Location', 'Lat'),\n",
       " ('Location', 'Lon')]"
      ]
     },
     "metadata": {},
     "output_type": "display_data"
    },
    {
     "name": "stdout",
     "output_type": "stream",
     "text": [
      "\n",
      "Relationship Types\n"
     ]
    },
    {
     "data": {
      "text/plain": [
       "['MentoredBy', 'CreatedBy', 'CommissionedBy', 'InfluencedBy', 'LocatedIn']"
      ]
     },
     "metadata": {},
     "output_type": "display_data"
    },
    {
     "name": "stdout",
     "output_type": "stream",
     "text": [
      "Entities\n"
     ]
    },
    {
     "data": {
      "text/plain": [
       "[('Artist', 'Raphael'),\n",
       " ('Artist', 'Polidoro'),\n",
       " ('Artwork', 'Madonna of Loreto'),\n",
       " ('Artwork', 'Polidoro Psyche'),\n",
       " ('Patron', 'Julius II'),\n",
       " ('Location', 'Rome')]"
      ]
     },
     "metadata": {},
     "output_type": "display_data"
    },
    {
     "name": "stdout",
     "output_type": "stream",
     "text": [
      "Values\n"
     ]
    },
    {
     "data": {
      "text/plain": [
       "[('Artist', 'Key', 'Raphael'),\n",
       " ('Artist', 'Born', '1483'),\n",
       " ('Artist', 'Died', '1520'),\n",
       " ('Artist', 'Key', 'Polidoro'),\n",
       " ('Artist', 'Born', '1499'),\n",
       " ('Artist', 'Died', '1543'),\n",
       " ('Artwork', 'Key', 'Madonna of Loreto'),\n",
       " ('Artwork',\n",
       "  'Image URL',\n",
       "  'https://upload.wikimedia.org/wikipedia/commons/thumb/3/30/Rapha%C3%ABl_-_La_Madone_de_Lorette_-_Google_Art_Project.jpg/1024px-Rapha%C3%ABl_-_La_Madone_de_Lorette_-_Google_Art_Project.jpg'),\n",
       " ('Artwork', 'Start Date', 'nan'),\n",
       " ('Artwork', 'End Date', 'nan'),\n",
       " ('Artwork', 'Medium', 'nan'),\n",
       " ('Artwork', 'Key', 'Polidoro Psyche'),\n",
       " ('Artwork',\n",
       "  'Image URL',\n",
       "  'https://upload.wikimedia.org/wikipedia/commons/thumb/1/19/Polidoro_de_Caravaggio_Psyche_and_her_sisters.jpg/1599px-Polidoro_de_Caravaggio_Psyche_and_her_sisters.jpg'),\n",
       " ('Artwork', 'Start Date', 'nan'),\n",
       " ('Artwork', 'End Date', 'nan'),\n",
       " ('Artwork', 'Medium', 'nan'),\n",
       " ('Patron', 'Key', 'Julius II'),\n",
       " ('Patron', 'Born', '1443'),\n",
       " ('Patron', 'Died', '1513'),\n",
       " ('Location', 'Key', 'Rome'),\n",
       " ('Location', 'Lat', '1212'),\n",
       " ('Location', 'Lon', '1212')]"
      ]
     },
     "metadata": {},
     "output_type": "display_data"
    },
    {
     "name": "stdout",
     "output_type": "stream",
     "text": [
      "Relationships\n"
     ]
    },
    {
     "data": {
      "text/plain": [
       "[('MentoredBy', 'Polidoro', 'Raphael'),\n",
       " ('CreatedBy', 'Madonna of Loreto', 'Raphael'),\n",
       " ('CommissionedBy', 'Madonna of Loreto', 'Julius II'),\n",
       " ('CreatedBy', 'Polidoro Psyche', 'Polidoro')]"
      ]
     },
     "metadata": {},
     "output_type": "display_data"
    }
   ],
   "source": [
    "print('Entity Types')\n",
    "display([e.name for e in EntityType.objects.all()])\n",
    "\n",
    "print('\\nFields')\n",
    "display([(f.entity_type.name, f.name) for f in Field.objects.all()])\n",
    "\n",
    "print('\\nRelationship Types')\n",
    "display([e.name for e in RelationshipType.objects.all()])\n",
    "\n",
    "print('Entities')\n",
    "display([(f.entity_type.name, f.key) for f in Entity.objects.all()])\n",
    "\n",
    "print('Values')\n",
    "display([(v.entity_type.name, v.field.name, v.value) for v in Value.objects.all()])\n",
    "\n",
    "print('Relationships')\n",
    "display([(v.relationship_type.name, v.source_entity.key, v.target_entity.key) for v in Relationship.objects.all()])\n"
   ]
  },
  {
   "cell_type": "code",
   "execution_count": 3,
   "id": "444d4fee-5d89-4b6f-ab68-c6aaabb2fd60",
   "metadata": {},
   "outputs": [],
   "source": [
    "import json\n",
    "def db2json():\n",
    "    nodes = []\n",
    "    for e in Entity.objects.all():\n",
    "        nodes.append({\n",
    "            'id': e.pk,\n",
    "            'key': e.key,\n",
    "            'name': e.name,\n",
    "            'entity_type': e.entity_type.name,\n",
    "            'image_url': e.get_value('Image URL')\n",
    "        })\n",
    "    links = []\n",
    "    for r in Relationship.objects.all():\n",
    "        links.append({\n",
    "            'source': r.source_entity.pk,\n",
    "            'target': r.target_entity.pk,\n",
    "            'relationship_type': r.relationship_type.name,\n",
    "            'value': 1\n",
    "        })\n",
    "    return json.dumps({'nodes': nodes, 'links': links}).encode('utf-8')\n",
    "    \n",
    "import gzip\n",
    "Graph(compressed_json=gzip.compress(db2json())).save()"
   ]
  },
  {
   "cell_type": "code",
   "execution_count": 9,
   "id": "9d14599e-103c-4d38-9cad-d270d99a7f0f",
   "metadata": {},
   "outputs": [
    {
     "ename": "AttributeError",
     "evalue": "'Graph' object has no attribute 'get_json'",
     "output_type": "error",
     "traceback": [
      "\u001b[0;31m---------------------------------------------------------------------------\u001b[0m",
      "\u001b[0;31mAttributeError\u001b[0m                            Traceback (most recent call last)",
      "Cell \u001b[0;32mIn[9], line 1\u001b[0m\n\u001b[0;32m----> 1\u001b[0m \u001b[43mGraph\u001b[49m\u001b[38;5;241;43m.\u001b[39;49m\u001b[43mobjects\u001b[49m\u001b[38;5;241;43m.\u001b[39;49m\u001b[43mfirst\u001b[49m\u001b[43m(\u001b[49m\u001b[43m)\u001b[49m\u001b[38;5;241;43m.\u001b[39;49m\u001b[43mget_json\u001b[49m()\n",
      "\u001b[0;31mAttributeError\u001b[0m: 'Graph' object has no attribute 'get_json'"
     ]
    }
   ],
   "source": [
    "Graph.objects.first().get_json()"
   ]
  },
  {
   "cell_type": "code",
   "execution_count": 5,
   "id": "9445af62-195b-4632-b6c8-d01e9bc6e401",
   "metadata": {},
   "outputs": [],
   "source": [
    "e = db.entities['Artwork']['Polidoro Psyche']\n",
    "e.get_value('Image URL')\n",
    "# for v in e.values.all():\n",
    "#     print(v.field.name, v.value)"
   ]
  },
  {
   "cell_type": "code",
   "execution_count": 18,
   "id": "4dcbceb8-814e-482b-b872-099edba49114",
   "metadata": {},
   "outputs": [
    {
     "name": "stdout",
     "output_type": "stream",
     "text": [
      "Help on built-in function replace:\n",
      "\n",
      "replace(old, new, count=-1, /) method of builtins.str instance\n",
      "    Return a copy with all occurrences of substring old replaced by new.\n",
      "    \n",
      "      count\n",
      "        Maximum number of occurrences to replace.\n",
      "        -1 (the default value) means replace all occurrences.\n",
      "    \n",
      "    If the optional argument count is given, only the first count occurrences are\n",
      "    replaced.\n",
      "\n"
     ]
    }
   ],
   "source": [
    "re.sub('asd'.replace)\n"
   ]
  }
 ],
 "metadata": {
  "kernelspec": {
   "display_name": "Python 3 (ipykernel)",
   "language": "python",
   "name": "python3"
  },
  "language_info": {
   "codemirror_mode": {
    "name": "ipython",
    "version": 3
   },
   "file_extension": ".py",
   "mimetype": "text/x-python",
   "name": "python",
   "nbconvert_exporter": "python",
   "pygments_lexer": "ipython3",
   "version": "3.9.12"
  }
 },
 "nbformat": 4,
 "nbformat_minor": 5
}
